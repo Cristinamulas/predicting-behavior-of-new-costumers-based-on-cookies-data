{
 "cells": [
  {
   "cell_type": "code",
   "execution_count": 28,
   "metadata": {},
   "outputs": [],
   "source": [
    "import pandas as pd\n",
    "import matplotlib.pyplot as plt\n",
    "import seaborn as sns\n",
    "from imblearn.over_sampling import RandomOverSampler\n",
    "from sklearn.metrics import precision_score, recall_score, accuracy_score, f1_score, confusion_matrix\n",
    "from sklearn.model_selection import train_test_split\n",
    "from sklearn.linear_model import LogisticRegression\n",
    "from sklearn.metrics import classification_report, confusion_matrix\n",
    "from sklearn import metrics\n",
    "import xgboost as xgb\n",
    "from sklearn.model_selection import GridSearchCV\n",
    "\n",
    "import warnings\n",
    "warnings.simplefilter(action='ignore', category=FutureWarning)\n",
    "\n",
    "from functions import *"
   ]
  },
  {
   "cell_type": "code",
   "execution_count": 27,
   "metadata": {},
   "outputs": [],
   "source": [
    "# opened_file = open('Dstillery_dataset.txt')\n",
    "# from csv import reader\n",
    "# read_file = reader(opened_file)\n",
    "# apps_data = list(read_file)\n",
    "\n",
    "# with open('Dstillery_dataset.txt','r') as f:\n",
    "#     shakespeare = f.read().split('\\n')\n"
   ]
  },
  {
   "cell_type": "markdown",
   "metadata": {},
   "source": [
    "## Load Dataset"
   ]
  },
  {
   "cell_type": "code",
   "execution_count": 2,
   "metadata": {},
   "outputs": [],
   "source": [
    "df = pd.read_csv('Dstillery_dataset.txt',sep='\\t')"
   ]
  },
  {
   "cell_type": "code",
   "execution_count": 3,
   "metadata": {},
   "outputs": [],
   "source": [
    "df.reset_index(drop=True, inplace = True)"
   ]
  },
  {
   "cell_type": "code",
   "execution_count": 4,
   "metadata": {},
   "outputs": [
    {
     "data": {
      "text/html": [
       "<div>\n",
       "<style scoped>\n",
       "    .dataframe tbody tr th:only-of-type {\n",
       "        vertical-align: middle;\n",
       "    }\n",
       "\n",
       "    .dataframe tbody tr th {\n",
       "        vertical-align: top;\n",
       "    }\n",
       "\n",
       "    .dataframe thead th {\n",
       "        text-align: right;\n",
       "    }\n",
       "</style>\n",
       "<table border=\"1\" class=\"dataframe\">\n",
       "  <thead>\n",
       "    <tr style=\"text-align: right;\">\n",
       "      <th></th>\n",
       "      <th>isbuyer</th>\n",
       "      <th>buy_freq</th>\n",
       "      <th>visit_freq</th>\n",
       "      <th>buy_interval</th>\n",
       "      <th>sv_interval</th>\n",
       "      <th>expected_time_buy</th>\n",
       "      <th>expected_time_visit</th>\n",
       "      <th>last_buy</th>\n",
       "      <th>last_visit</th>\n",
       "      <th>multiple_buy</th>\n",
       "      <th>multiple_visit</th>\n",
       "      <th>uniq_urls</th>\n",
       "      <th>num_checkins</th>\n",
       "      <th>y_buy</th>\n",
       "    </tr>\n",
       "  </thead>\n",
       "  <tbody>\n",
       "    <tr>\n",
       "      <th>0</th>\n",
       "      <td>0</td>\n",
       "      <td>NaN</td>\n",
       "      <td>1</td>\n",
       "      <td>0.0</td>\n",
       "      <td>0.0</td>\n",
       "      <td>0.0</td>\n",
       "      <td>0.0000</td>\n",
       "      <td>106</td>\n",
       "      <td>106</td>\n",
       "      <td>0</td>\n",
       "      <td>0</td>\n",
       "      <td>169</td>\n",
       "      <td>2130</td>\n",
       "      <td>0</td>\n",
       "    </tr>\n",
       "    <tr>\n",
       "      <th>1</th>\n",
       "      <td>0</td>\n",
       "      <td>NaN</td>\n",
       "      <td>1</td>\n",
       "      <td>0.0</td>\n",
       "      <td>0.0</td>\n",
       "      <td>0.0</td>\n",
       "      <td>0.0000</td>\n",
       "      <td>72</td>\n",
       "      <td>72</td>\n",
       "      <td>0</td>\n",
       "      <td>0</td>\n",
       "      <td>154</td>\n",
       "      <td>1100</td>\n",
       "      <td>0</td>\n",
       "    </tr>\n",
       "    <tr>\n",
       "      <th>2</th>\n",
       "      <td>0</td>\n",
       "      <td>NaN</td>\n",
       "      <td>1</td>\n",
       "      <td>0.0</td>\n",
       "      <td>0.0</td>\n",
       "      <td>0.0</td>\n",
       "      <td>0.0000</td>\n",
       "      <td>5</td>\n",
       "      <td>5</td>\n",
       "      <td>0</td>\n",
       "      <td>0</td>\n",
       "      <td>4</td>\n",
       "      <td>12</td>\n",
       "      <td>0</td>\n",
       "    </tr>\n",
       "    <tr>\n",
       "      <th>3</th>\n",
       "      <td>0</td>\n",
       "      <td>NaN</td>\n",
       "      <td>1</td>\n",
       "      <td>0.0</td>\n",
       "      <td>0.0</td>\n",
       "      <td>0.0</td>\n",
       "      <td>0.0000</td>\n",
       "      <td>6</td>\n",
       "      <td>6</td>\n",
       "      <td>0</td>\n",
       "      <td>0</td>\n",
       "      <td>150</td>\n",
       "      <td>539</td>\n",
       "      <td>0</td>\n",
       "    </tr>\n",
       "    <tr>\n",
       "      <th>4</th>\n",
       "      <td>0</td>\n",
       "      <td>NaN</td>\n",
       "      <td>2</td>\n",
       "      <td>0.0</td>\n",
       "      <td>0.5</td>\n",
       "      <td>0.0</td>\n",
       "      <td>-101.1493</td>\n",
       "      <td>101</td>\n",
       "      <td>101</td>\n",
       "      <td>0</td>\n",
       "      <td>1</td>\n",
       "      <td>103</td>\n",
       "      <td>362</td>\n",
       "      <td>0</td>\n",
       "    </tr>\n",
       "  </tbody>\n",
       "</table>\n",
       "</div>"
      ],
      "text/plain": [
       "   isbuyer  buy_freq  visit_freq  buy_interval  sv_interval  \\\n",
       "0        0       NaN           1           0.0          0.0   \n",
       "1        0       NaN           1           0.0          0.0   \n",
       "2        0       NaN           1           0.0          0.0   \n",
       "3        0       NaN           1           0.0          0.0   \n",
       "4        0       NaN           2           0.0          0.5   \n",
       "\n",
       "   expected_time_buy  expected_time_visit  last_buy  last_visit  multiple_buy  \\\n",
       "0                0.0               0.0000       106         106             0   \n",
       "1                0.0               0.0000        72          72             0   \n",
       "2                0.0               0.0000         5           5             0   \n",
       "3                0.0               0.0000         6           6             0   \n",
       "4                0.0            -101.1493       101         101             0   \n",
       "\n",
       "   multiple_visit  uniq_urls  num_checkins  y_buy  \n",
       "0               0        169          2130      0  \n",
       "1               0        154          1100      0  \n",
       "2               0          4            12      0  \n",
       "3               0        150           539      0  \n",
       "4               1        103           362      0  "
      ]
     },
     "execution_count": 4,
     "metadata": {},
     "output_type": "execute_result"
    }
   ],
   "source": [
    "df.head()"
   ]
  },
  {
   "cell_type": "markdown",
   "metadata": {},
   "source": [
    "## Exploring the dataset"
   ]
  },
  {
   "cell_type": "code",
   "execution_count": 5,
   "metadata": {},
   "outputs": [
    {
     "name": "stdout",
     "output_type": "stream",
     "text": [
      "<class 'pandas.core.frame.DataFrame'>\n",
      "RangeIndex: 54584 entries, 0 to 54583\n",
      "Data columns (total 14 columns):\n",
      " #   Column               Non-Null Count  Dtype  \n",
      "---  ------               --------------  -----  \n",
      " 0   isbuyer              54584 non-null  int64  \n",
      " 1   buy_freq             2327 non-null   float64\n",
      " 2   visit_freq           54584 non-null  int64  \n",
      " 3   buy_interval         54584 non-null  float64\n",
      " 4   sv_interval          54584 non-null  float64\n",
      " 5   expected_time_buy    54584 non-null  float64\n",
      " 6   expected_time_visit  54584 non-null  float64\n",
      " 7   last_buy             54584 non-null  int64  \n",
      " 8   last_visit           54584 non-null  int64  \n",
      " 9   multiple_buy         54584 non-null  int64  \n",
      " 10  multiple_visit       54584 non-null  int64  \n",
      " 11  uniq_urls            54584 non-null  int64  \n",
      " 12  num_checkins         54584 non-null  int64  \n",
      " 13  y_buy                54584 non-null  int64  \n",
      "dtypes: float64(5), int64(9)\n",
      "memory usage: 5.8 MB\n"
     ]
    }
   ],
   "source": [
    "df.info()"
   ]
  },
  {
   "cell_type": "code",
   "execution_count": 6,
   "metadata": {},
   "outputs": [
    {
     "data": {
      "text/html": [
       "<div>\n",
       "<style scoped>\n",
       "    .dataframe tbody tr th:only-of-type {\n",
       "        vertical-align: middle;\n",
       "    }\n",
       "\n",
       "    .dataframe tbody tr th {\n",
       "        vertical-align: top;\n",
       "    }\n",
       "\n",
       "    .dataframe thead th {\n",
       "        text-align: right;\n",
       "    }\n",
       "</style>\n",
       "<table border=\"1\" class=\"dataframe\">\n",
       "  <thead>\n",
       "    <tr style=\"text-align: right;\">\n",
       "      <th></th>\n",
       "      <th>isbuyer</th>\n",
       "      <th>buy_freq</th>\n",
       "      <th>visit_freq</th>\n",
       "      <th>buy_interval</th>\n",
       "      <th>sv_interval</th>\n",
       "      <th>expected_time_buy</th>\n",
       "      <th>expected_time_visit</th>\n",
       "      <th>last_buy</th>\n",
       "      <th>last_visit</th>\n",
       "      <th>multiple_buy</th>\n",
       "      <th>multiple_visit</th>\n",
       "      <th>uniq_urls</th>\n",
       "      <th>num_checkins</th>\n",
       "      <th>y_buy</th>\n",
       "    </tr>\n",
       "  </thead>\n",
       "  <tbody>\n",
       "    <tr>\n",
       "      <th>count</th>\n",
       "      <td>54584.000000</td>\n",
       "      <td>2327.000000</td>\n",
       "      <td>54584.000000</td>\n",
       "      <td>54584.000000</td>\n",
       "      <td>54584.000000</td>\n",
       "      <td>54584.000000</td>\n",
       "      <td>54584.000000</td>\n",
       "      <td>54584.000000</td>\n",
       "      <td>54584.000000</td>\n",
       "      <td>54584.000000</td>\n",
       "      <td>54584.000000</td>\n",
       "      <td>54584.000000</td>\n",
       "      <td>54584.000000</td>\n",
       "      <td>54584.000000</td>\n",
       "    </tr>\n",
       "    <tr>\n",
       "      <th>mean</th>\n",
       "      <td>0.042632</td>\n",
       "      <td>1.240653</td>\n",
       "      <td>1.852777</td>\n",
       "      <td>0.210008</td>\n",
       "      <td>5.825610</td>\n",
       "      <td>-0.198040</td>\n",
       "      <td>-10.210786</td>\n",
       "      <td>64.729335</td>\n",
       "      <td>64.729335</td>\n",
       "      <td>0.006357</td>\n",
       "      <td>0.277444</td>\n",
       "      <td>86.569343</td>\n",
       "      <td>720.657592</td>\n",
       "      <td>0.004635</td>\n",
       "    </tr>\n",
       "    <tr>\n",
       "      <th>std</th>\n",
       "      <td>0.202027</td>\n",
       "      <td>0.782228</td>\n",
       "      <td>2.921820</td>\n",
       "      <td>3.922016</td>\n",
       "      <td>17.595442</td>\n",
       "      <td>4.997792</td>\n",
       "      <td>31.879722</td>\n",
       "      <td>53.476658</td>\n",
       "      <td>53.476658</td>\n",
       "      <td>0.079479</td>\n",
       "      <td>0.447742</td>\n",
       "      <td>61.969765</td>\n",
       "      <td>1275.727306</td>\n",
       "      <td>0.067924</td>\n",
       "    </tr>\n",
       "    <tr>\n",
       "      <th>min</th>\n",
       "      <td>0.000000</td>\n",
       "      <td>1.000000</td>\n",
       "      <td>0.000000</td>\n",
       "      <td>0.000000</td>\n",
       "      <td>0.000000</td>\n",
       "      <td>-181.923800</td>\n",
       "      <td>-187.615600</td>\n",
       "      <td>0.000000</td>\n",
       "      <td>0.000000</td>\n",
       "      <td>0.000000</td>\n",
       "      <td>0.000000</td>\n",
       "      <td>-1.000000</td>\n",
       "      <td>1.000000</td>\n",
       "      <td>0.000000</td>\n",
       "    </tr>\n",
       "    <tr>\n",
       "      <th>25%</th>\n",
       "      <td>0.000000</td>\n",
       "      <td>1.000000</td>\n",
       "      <td>1.000000</td>\n",
       "      <td>0.000000</td>\n",
       "      <td>0.000000</td>\n",
       "      <td>0.000000</td>\n",
       "      <td>0.000000</td>\n",
       "      <td>18.000000</td>\n",
       "      <td>18.000000</td>\n",
       "      <td>0.000000</td>\n",
       "      <td>0.000000</td>\n",
       "      <td>30.000000</td>\n",
       "      <td>127.000000</td>\n",
       "      <td>0.000000</td>\n",
       "    </tr>\n",
       "    <tr>\n",
       "      <th>50%</th>\n",
       "      <td>0.000000</td>\n",
       "      <td>1.000000</td>\n",
       "      <td>1.000000</td>\n",
       "      <td>0.000000</td>\n",
       "      <td>0.000000</td>\n",
       "      <td>0.000000</td>\n",
       "      <td>0.000000</td>\n",
       "      <td>51.000000</td>\n",
       "      <td>51.000000</td>\n",
       "      <td>0.000000</td>\n",
       "      <td>0.000000</td>\n",
       "      <td>75.000000</td>\n",
       "      <td>319.000000</td>\n",
       "      <td>0.000000</td>\n",
       "    </tr>\n",
       "    <tr>\n",
       "      <th>75%</th>\n",
       "      <td>0.000000</td>\n",
       "      <td>1.000000</td>\n",
       "      <td>2.000000</td>\n",
       "      <td>0.000000</td>\n",
       "      <td>0.104167</td>\n",
       "      <td>0.000000</td>\n",
       "      <td>0.000000</td>\n",
       "      <td>105.000000</td>\n",
       "      <td>105.000000</td>\n",
       "      <td>0.000000</td>\n",
       "      <td>1.000000</td>\n",
       "      <td>155.000000</td>\n",
       "      <td>802.000000</td>\n",
       "      <td>0.000000</td>\n",
       "    </tr>\n",
       "    <tr>\n",
       "      <th>max</th>\n",
       "      <td>1.000000</td>\n",
       "      <td>15.000000</td>\n",
       "      <td>84.000000</td>\n",
       "      <td>174.625000</td>\n",
       "      <td>184.916700</td>\n",
       "      <td>84.285710</td>\n",
       "      <td>91.401920</td>\n",
       "      <td>188.000000</td>\n",
       "      <td>188.000000</td>\n",
       "      <td>1.000000</td>\n",
       "      <td>1.000000</td>\n",
       "      <td>206.000000</td>\n",
       "      <td>37091.000000</td>\n",
       "      <td>1.000000</td>\n",
       "    </tr>\n",
       "  </tbody>\n",
       "</table>\n",
       "</div>"
      ],
      "text/plain": [
       "            isbuyer     buy_freq    visit_freq  buy_interval   sv_interval  \\\n",
       "count  54584.000000  2327.000000  54584.000000  54584.000000  54584.000000   \n",
       "mean       0.042632     1.240653      1.852777      0.210008      5.825610   \n",
       "std        0.202027     0.782228      2.921820      3.922016     17.595442   \n",
       "min        0.000000     1.000000      0.000000      0.000000      0.000000   \n",
       "25%        0.000000     1.000000      1.000000      0.000000      0.000000   \n",
       "50%        0.000000     1.000000      1.000000      0.000000      0.000000   \n",
       "75%        0.000000     1.000000      2.000000      0.000000      0.104167   \n",
       "max        1.000000    15.000000     84.000000    174.625000    184.916700   \n",
       "\n",
       "       expected_time_buy  expected_time_visit      last_buy    last_visit  \\\n",
       "count       54584.000000         54584.000000  54584.000000  54584.000000   \n",
       "mean           -0.198040           -10.210786     64.729335     64.729335   \n",
       "std             4.997792            31.879722     53.476658     53.476658   \n",
       "min          -181.923800          -187.615600      0.000000      0.000000   \n",
       "25%             0.000000             0.000000     18.000000     18.000000   \n",
       "50%             0.000000             0.000000     51.000000     51.000000   \n",
       "75%             0.000000             0.000000    105.000000    105.000000   \n",
       "max            84.285710            91.401920    188.000000    188.000000   \n",
       "\n",
       "       multiple_buy  multiple_visit     uniq_urls  num_checkins         y_buy  \n",
       "count  54584.000000    54584.000000  54584.000000  54584.000000  54584.000000  \n",
       "mean       0.006357        0.277444     86.569343    720.657592      0.004635  \n",
       "std        0.079479        0.447742     61.969765   1275.727306      0.067924  \n",
       "min        0.000000        0.000000     -1.000000      1.000000      0.000000  \n",
       "25%        0.000000        0.000000     30.000000    127.000000      0.000000  \n",
       "50%        0.000000        0.000000     75.000000    319.000000      0.000000  \n",
       "75%        0.000000        1.000000    155.000000    802.000000      0.000000  \n",
       "max        1.000000        1.000000    206.000000  37091.000000      1.000000  "
      ]
     },
     "execution_count": 6,
     "metadata": {},
     "output_type": "execute_result"
    }
   ],
   "source": [
    "df.describe()"
   ]
  },
  {
   "cell_type": "code",
   "execution_count": 7,
   "metadata": {},
   "outputs": [
    {
     "name": "stdout",
     "output_type": "stream",
     "text": [
      "0    52257\n",
      "1     2327\n",
      "Name: isbuyer, dtype: int64\n",
      "1.0     1980\n",
      "2.0      244\n",
      "3.0       55\n",
      "4.0       20\n",
      "5.0       17\n",
      "6.0        5\n",
      "7.0        2\n",
      "11.0       2\n",
      "15.0       1\n",
      "8.0        1\n",
      "Name: buy_freq, dtype: int64\n",
      "1     39358\n",
      "2      7697\n",
      "3      2879\n",
      "4      1358\n",
      "5       810\n",
      "      ...  \n",
      "65        1\n",
      "50        1\n",
      "43        1\n",
      "84        1\n",
      "60        1\n",
      "Name: visit_freq, Length: 64, dtype: int64\n",
      "0.000000      54237\n",
      "0.041667         17\n",
      "0.083333          3\n",
      "0.125000          3\n",
      "3.041667          3\n",
      "              ...  \n",
      "170.833300        1\n",
      "7.583333          1\n",
      "31.583330         1\n",
      "20.638890         1\n",
      "9.958333          1\n",
      "Name: buy_interval, Length: 295, dtype: int64\n",
      "0.000000      39440\n",
      "0.041667       1319\n",
      "0.083333        145\n",
      "0.125000        107\n",
      "1.000000         67\n",
      "              ...  \n",
      "1.627451          1\n",
      "92.750000         1\n",
      "3.937500          1\n",
      "140.000000        1\n",
      "12.822920         1\n",
      "Name: sv_interval, Length: 5886, dtype: int64\n",
      " 0.000000      54237\n",
      "-133.628200        1\n",
      "-27.771500         1\n",
      " 80.404080         1\n",
      "-124.170000        1\n",
      "               ...  \n",
      "-44.675350         1\n",
      "-8.865496          1\n",
      "-12.133500         1\n",
      "-58.931050         1\n",
      "-22.971390         1\n",
      "Name: expected_time_buy, Length: 348, dtype: int64\n",
      " 0.000000     39440\n",
      "-28.031250        2\n",
      "-21.999500        2\n",
      "-1.880392         2\n",
      "-61.631170        2\n",
      "              ...  \n",
      "-56.707550        1\n",
      "-22.180950        1\n",
      "-41.691170        1\n",
      "-1.887962         1\n",
      "-64.647660        1\n",
      "Name: expected_time_visit, Length: 15135, dtype: int64\n",
      "0      1792\n",
      "2      1114\n",
      "1      1097\n",
      "3       879\n",
      "4       810\n",
      "       ... \n",
      "150     103\n",
      "185      78\n",
      "186      59\n",
      "187      29\n",
      "188       3\n",
      "Name: last_buy, Length: 189, dtype: int64\n",
      "0      1792\n",
      "2      1114\n",
      "1      1097\n",
      "3       879\n",
      "4       810\n",
      "       ... \n",
      "150     103\n",
      "185      78\n",
      "186      59\n",
      "187      29\n",
      "188       3\n",
      "Name: last_visit, Length: 189, dtype: int64\n",
      "0    54237\n",
      "1      347\n",
      "Name: multiple_buy, dtype: int64\n",
      "0    39440\n",
      "1    15144\n",
      "Name: multiple_visit, dtype: int64\n",
      "-1      826\n",
      " 0      707\n",
      " 171    628\n",
      " 169    611\n",
      " 168    580\n",
      "       ... \n",
      " 202      1\n",
      " 203      1\n",
      " 204      1\n",
      " 205      1\n",
      " 206      1\n",
      "Name: uniq_urls, Length: 207, dtype: int64\n",
      "70      148\n",
      "45      146\n",
      "67      141\n",
      "30      140\n",
      "57      140\n",
      "       ... \n",
      "4458      1\n",
      "2843      1\n",
      "4205      1\n",
      "6539      1\n",
      "5337      1\n",
      "Name: num_checkins, Length: 4628, dtype: int64\n",
      "0    54331\n",
      "1      253\n",
      "Name: y_buy, dtype: int64\n"
     ]
    }
   ],
   "source": [
    "# deploy a function that return value_counts for all the attributes\n",
    "value__counts(df)"
   ]
  },
  {
   "cell_type": "markdown",
   "metadata": {},
   "source": [
    "### After exploring the db I discover:\n",
    "- is_buyer is a binary variable 0 new buyer, 1 buy the product\n",
    "- buy_freq has many null values\n",
    "- last_buy and last_visit contains very similar information.\n",
    "- uniq_urls the min value is -1, this can be a placeholder becuase you can not be a negative number.\n",
    "- Target value is imbalance, It needs to be balance before implemening the models."
   ]
  },
  {
   "cell_type": "markdown",
   "metadata": {},
   "source": [
    "## Checking for null values in the df"
   ]
  },
  {
   "cell_type": "code",
   "execution_count": 8,
   "metadata": {},
   "outputs": [
    {
     "data": {
      "text/plain": [
       "isbuyer                    0\n",
       "buy_freq               52257\n",
       "visit_freq                 0\n",
       "buy_interval               0\n",
       "sv_interval                0\n",
       "expected_time_buy          0\n",
       "expected_time_visit        0\n",
       "last_buy                   0\n",
       "last_visit                 0\n",
       "multiple_buy               0\n",
       "multiple_visit             0\n",
       "uniq_urls                  0\n",
       "num_checkins               0\n",
       "y_buy                      0\n",
       "dtype: int64"
      ]
     },
     "execution_count": 8,
     "metadata": {},
     "output_type": "execute_result"
    }
   ],
   "source": [
    "df.isnull().sum() \n",
    "# buy_freq feature has a hight amount of null values"
   ]
  },
  {
   "cell_type": "markdown",
   "metadata": {},
   "source": [
    "## Drop buy_freq feature \n"
   ]
  },
  {
   "cell_type": "markdown",
   "metadata": {},
   "source": [
    "- I'm not going to include the attribute buy_freq in my future analysis becuase of the higer percentage of null values. If the percentage of the values was't too hight I could replace the values by the mediam, but its not the case."
   ]
  },
  {
   "cell_type": "code",
   "execution_count": 9,
   "metadata": {},
   "outputs": [],
   "source": [
    "df.drop(['buy_freq'], axis=1, inplace = True)\n"
   ]
  },
  {
   "cell_type": "code",
   "execution_count": 10,
   "metadata": {},
   "outputs": [
    {
     "data": {
      "text/html": [
       "<div>\n",
       "<style scoped>\n",
       "    .dataframe tbody tr th:only-of-type {\n",
       "        vertical-align: middle;\n",
       "    }\n",
       "\n",
       "    .dataframe tbody tr th {\n",
       "        vertical-align: top;\n",
       "    }\n",
       "\n",
       "    .dataframe thead th {\n",
       "        text-align: right;\n",
       "    }\n",
       "</style>\n",
       "<table border=\"1\" class=\"dataframe\">\n",
       "  <thead>\n",
       "    <tr style=\"text-align: right;\">\n",
       "      <th></th>\n",
       "      <th>isbuyer</th>\n",
       "      <th>visit_freq</th>\n",
       "      <th>buy_interval</th>\n",
       "      <th>sv_interval</th>\n",
       "      <th>expected_time_buy</th>\n",
       "      <th>expected_time_visit</th>\n",
       "      <th>last_buy</th>\n",
       "      <th>last_visit</th>\n",
       "      <th>multiple_buy</th>\n",
       "      <th>multiple_visit</th>\n",
       "      <th>uniq_urls</th>\n",
       "      <th>num_checkins</th>\n",
       "      <th>y_buy</th>\n",
       "    </tr>\n",
       "  </thead>\n",
       "  <tbody>\n",
       "    <tr>\n",
       "      <th>0</th>\n",
       "      <td>0</td>\n",
       "      <td>1</td>\n",
       "      <td>0.0</td>\n",
       "      <td>0.0</td>\n",
       "      <td>0.0</td>\n",
       "      <td>0.0000</td>\n",
       "      <td>106</td>\n",
       "      <td>106</td>\n",
       "      <td>0</td>\n",
       "      <td>0</td>\n",
       "      <td>169</td>\n",
       "      <td>2130</td>\n",
       "      <td>0</td>\n",
       "    </tr>\n",
       "    <tr>\n",
       "      <th>1</th>\n",
       "      <td>0</td>\n",
       "      <td>1</td>\n",
       "      <td>0.0</td>\n",
       "      <td>0.0</td>\n",
       "      <td>0.0</td>\n",
       "      <td>0.0000</td>\n",
       "      <td>72</td>\n",
       "      <td>72</td>\n",
       "      <td>0</td>\n",
       "      <td>0</td>\n",
       "      <td>154</td>\n",
       "      <td>1100</td>\n",
       "      <td>0</td>\n",
       "    </tr>\n",
       "    <tr>\n",
       "      <th>2</th>\n",
       "      <td>0</td>\n",
       "      <td>1</td>\n",
       "      <td>0.0</td>\n",
       "      <td>0.0</td>\n",
       "      <td>0.0</td>\n",
       "      <td>0.0000</td>\n",
       "      <td>5</td>\n",
       "      <td>5</td>\n",
       "      <td>0</td>\n",
       "      <td>0</td>\n",
       "      <td>4</td>\n",
       "      <td>12</td>\n",
       "      <td>0</td>\n",
       "    </tr>\n",
       "    <tr>\n",
       "      <th>3</th>\n",
       "      <td>0</td>\n",
       "      <td>1</td>\n",
       "      <td>0.0</td>\n",
       "      <td>0.0</td>\n",
       "      <td>0.0</td>\n",
       "      <td>0.0000</td>\n",
       "      <td>6</td>\n",
       "      <td>6</td>\n",
       "      <td>0</td>\n",
       "      <td>0</td>\n",
       "      <td>150</td>\n",
       "      <td>539</td>\n",
       "      <td>0</td>\n",
       "    </tr>\n",
       "    <tr>\n",
       "      <th>4</th>\n",
       "      <td>0</td>\n",
       "      <td>2</td>\n",
       "      <td>0.0</td>\n",
       "      <td>0.5</td>\n",
       "      <td>0.0</td>\n",
       "      <td>-101.1493</td>\n",
       "      <td>101</td>\n",
       "      <td>101</td>\n",
       "      <td>0</td>\n",
       "      <td>1</td>\n",
       "      <td>103</td>\n",
       "      <td>362</td>\n",
       "      <td>0</td>\n",
       "    </tr>\n",
       "  </tbody>\n",
       "</table>\n",
       "</div>"
      ],
      "text/plain": [
       "   isbuyer  visit_freq  buy_interval  sv_interval  expected_time_buy  \\\n",
       "0        0           1           0.0          0.0                0.0   \n",
       "1        0           1           0.0          0.0                0.0   \n",
       "2        0           1           0.0          0.0                0.0   \n",
       "3        0           1           0.0          0.0                0.0   \n",
       "4        0           2           0.0          0.5                0.0   \n",
       "\n",
       "   expected_time_visit  last_buy  last_visit  multiple_buy  multiple_visit  \\\n",
       "0               0.0000       106         106             0               0   \n",
       "1               0.0000        72          72             0               0   \n",
       "2               0.0000         5           5             0               0   \n",
       "3               0.0000         6           6             0               0   \n",
       "4            -101.1493       101         101             0               1   \n",
       "\n",
       "   uniq_urls  num_checkins  y_buy  \n",
       "0        169          2130      0  \n",
       "1        154          1100      0  \n",
       "2          4            12      0  \n",
       "3        150           539      0  \n",
       "4        103           362      0  "
      ]
     },
     "execution_count": 10,
     "metadata": {},
     "output_type": "execute_result"
    }
   ],
   "source": [
    "df.head()"
   ]
  },
  {
   "cell_type": "markdown",
   "metadata": {},
   "source": [
    "## Checking for duplicates values"
   ]
  },
  {
   "cell_type": "code",
   "execution_count": 11,
   "metadata": {},
   "outputs": [
    {
     "data": {
      "text/plain": [
       "516"
      ]
     },
     "execution_count": 11,
     "metadata": {},
     "output_type": "execute_result"
    }
   ],
   "source": [
    "# removing duplicates \n",
    "duplicates = df[df.duplicated(keep = False)]\n",
    "len(duplicates)\n"
   ]
  },
  {
   "cell_type": "markdown",
   "metadata": {},
   "source": [
    "- Duplicates can be a result of the product being buy another time by the same user. Therefore do not need to delete."
   ]
  },
  {
   "cell_type": "markdown",
   "metadata": {},
   "source": [
    "## Removing duplicates values"
   ]
  },
  {
   "cell_type": "code",
   "execution_count": 12,
   "metadata": {},
   "outputs": [
    {
     "data": {
      "text/plain": [
       "54068"
      ]
     },
     "execution_count": 12,
     "metadata": {},
     "output_type": "execute_result"
    }
   ],
   "source": [
    "df.drop_duplicates(keep=False,inplace = True)\n",
    "len(df)"
   ]
  },
  {
   "cell_type": "markdown",
   "metadata": {},
   "source": [
    "## Multicollinearity of features"
   ]
  },
  {
   "cell_type": "code",
   "execution_count": 13,
   "metadata": {},
   "outputs": [
    {
     "data": {
      "text/html": [
       "<div>\n",
       "<style scoped>\n",
       "    .dataframe tbody tr th:only-of-type {\n",
       "        vertical-align: middle;\n",
       "    }\n",
       "\n",
       "    .dataframe tbody tr th {\n",
       "        vertical-align: top;\n",
       "    }\n",
       "\n",
       "    .dataframe thead th {\n",
       "        text-align: right;\n",
       "    }\n",
       "</style>\n",
       "<table border=\"1\" class=\"dataframe\">\n",
       "  <thead>\n",
       "    <tr style=\"text-align: right;\">\n",
       "      <th></th>\n",
       "      <th>isbuyer</th>\n",
       "      <th>visit_freq</th>\n",
       "      <th>buy_interval</th>\n",
       "      <th>sv_interval</th>\n",
       "      <th>expected_time_buy</th>\n",
       "      <th>expected_time_visit</th>\n",
       "      <th>last_buy</th>\n",
       "      <th>last_visit</th>\n",
       "      <th>multiple_buy</th>\n",
       "      <th>multiple_visit</th>\n",
       "      <th>uniq_urls</th>\n",
       "      <th>num_checkins</th>\n",
       "      <th>y_buy</th>\n",
       "    </tr>\n",
       "  </thead>\n",
       "  <tbody>\n",
       "    <tr>\n",
       "      <th>isbuyer</th>\n",
       "      <td>1.0</td>\n",
       "      <td>NaN</td>\n",
       "      <td>NaN</td>\n",
       "      <td>NaN</td>\n",
       "      <td>NaN</td>\n",
       "      <td>NaN</td>\n",
       "      <td>NaN</td>\n",
       "      <td>NaN</td>\n",
       "      <td>NaN</td>\n",
       "      <td>NaN</td>\n",
       "      <td>NaN</td>\n",
       "      <td>NaN</td>\n",
       "      <td>NaN</td>\n",
       "    </tr>\n",
       "    <tr>\n",
       "      <th>visit_freq</th>\n",
       "      <td>NaN</td>\n",
       "      <td>1.0</td>\n",
       "      <td>NaN</td>\n",
       "      <td>NaN</td>\n",
       "      <td>NaN</td>\n",
       "      <td>NaN</td>\n",
       "      <td>NaN</td>\n",
       "      <td>NaN</td>\n",
       "      <td>NaN</td>\n",
       "      <td>NaN</td>\n",
       "      <td>NaN</td>\n",
       "      <td>NaN</td>\n",
       "      <td>NaN</td>\n",
       "    </tr>\n",
       "    <tr>\n",
       "      <th>buy_interval</th>\n",
       "      <td>NaN</td>\n",
       "      <td>NaN</td>\n",
       "      <td>1.0</td>\n",
       "      <td>NaN</td>\n",
       "      <td>NaN</td>\n",
       "      <td>NaN</td>\n",
       "      <td>NaN</td>\n",
       "      <td>NaN</td>\n",
       "      <td>NaN</td>\n",
       "      <td>NaN</td>\n",
       "      <td>NaN</td>\n",
       "      <td>NaN</td>\n",
       "      <td>NaN</td>\n",
       "    </tr>\n",
       "    <tr>\n",
       "      <th>sv_interval</th>\n",
       "      <td>NaN</td>\n",
       "      <td>NaN</td>\n",
       "      <td>NaN</td>\n",
       "      <td>1.0</td>\n",
       "      <td>NaN</td>\n",
       "      <td>NaN</td>\n",
       "      <td>NaN</td>\n",
       "      <td>NaN</td>\n",
       "      <td>NaN</td>\n",
       "      <td>NaN</td>\n",
       "      <td>NaN</td>\n",
       "      <td>NaN</td>\n",
       "      <td>NaN</td>\n",
       "    </tr>\n",
       "    <tr>\n",
       "      <th>expected_time_buy</th>\n",
       "      <td>NaN</td>\n",
       "      <td>NaN</td>\n",
       "      <td>NaN</td>\n",
       "      <td>NaN</td>\n",
       "      <td>1.0</td>\n",
       "      <td>NaN</td>\n",
       "      <td>NaN</td>\n",
       "      <td>NaN</td>\n",
       "      <td>NaN</td>\n",
       "      <td>NaN</td>\n",
       "      <td>NaN</td>\n",
       "      <td>NaN</td>\n",
       "      <td>NaN</td>\n",
       "    </tr>\n",
       "    <tr>\n",
       "      <th>expected_time_visit</th>\n",
       "      <td>NaN</td>\n",
       "      <td>NaN</td>\n",
       "      <td>NaN</td>\n",
       "      <td>NaN</td>\n",
       "      <td>NaN</td>\n",
       "      <td>1.0</td>\n",
       "      <td>NaN</td>\n",
       "      <td>NaN</td>\n",
       "      <td>NaN</td>\n",
       "      <td>NaN</td>\n",
       "      <td>NaN</td>\n",
       "      <td>NaN</td>\n",
       "      <td>NaN</td>\n",
       "    </tr>\n",
       "    <tr>\n",
       "      <th>last_buy</th>\n",
       "      <td>NaN</td>\n",
       "      <td>NaN</td>\n",
       "      <td>NaN</td>\n",
       "      <td>NaN</td>\n",
       "      <td>NaN</td>\n",
       "      <td>NaN</td>\n",
       "      <td>1.0</td>\n",
       "      <td>1.0</td>\n",
       "      <td>NaN</td>\n",
       "      <td>NaN</td>\n",
       "      <td>NaN</td>\n",
       "      <td>NaN</td>\n",
       "      <td>NaN</td>\n",
       "    </tr>\n",
       "    <tr>\n",
       "      <th>last_visit</th>\n",
       "      <td>NaN</td>\n",
       "      <td>NaN</td>\n",
       "      <td>NaN</td>\n",
       "      <td>NaN</td>\n",
       "      <td>NaN</td>\n",
       "      <td>NaN</td>\n",
       "      <td>1.0</td>\n",
       "      <td>1.0</td>\n",
       "      <td>NaN</td>\n",
       "      <td>NaN</td>\n",
       "      <td>NaN</td>\n",
       "      <td>NaN</td>\n",
       "      <td>NaN</td>\n",
       "    </tr>\n",
       "    <tr>\n",
       "      <th>multiple_buy</th>\n",
       "      <td>NaN</td>\n",
       "      <td>NaN</td>\n",
       "      <td>NaN</td>\n",
       "      <td>NaN</td>\n",
       "      <td>NaN</td>\n",
       "      <td>NaN</td>\n",
       "      <td>NaN</td>\n",
       "      <td>NaN</td>\n",
       "      <td>1.0</td>\n",
       "      <td>NaN</td>\n",
       "      <td>NaN</td>\n",
       "      <td>NaN</td>\n",
       "      <td>NaN</td>\n",
       "    </tr>\n",
       "    <tr>\n",
       "      <th>multiple_visit</th>\n",
       "      <td>NaN</td>\n",
       "      <td>NaN</td>\n",
       "      <td>NaN</td>\n",
       "      <td>NaN</td>\n",
       "      <td>NaN</td>\n",
       "      <td>NaN</td>\n",
       "      <td>NaN</td>\n",
       "      <td>NaN</td>\n",
       "      <td>NaN</td>\n",
       "      <td>1.0</td>\n",
       "      <td>NaN</td>\n",
       "      <td>NaN</td>\n",
       "      <td>NaN</td>\n",
       "    </tr>\n",
       "    <tr>\n",
       "      <th>uniq_urls</th>\n",
       "      <td>NaN</td>\n",
       "      <td>NaN</td>\n",
       "      <td>NaN</td>\n",
       "      <td>NaN</td>\n",
       "      <td>NaN</td>\n",
       "      <td>NaN</td>\n",
       "      <td>NaN</td>\n",
       "      <td>NaN</td>\n",
       "      <td>NaN</td>\n",
       "      <td>NaN</td>\n",
       "      <td>1.0</td>\n",
       "      <td>NaN</td>\n",
       "      <td>NaN</td>\n",
       "    </tr>\n",
       "    <tr>\n",
       "      <th>num_checkins</th>\n",
       "      <td>NaN</td>\n",
       "      <td>NaN</td>\n",
       "      <td>NaN</td>\n",
       "      <td>NaN</td>\n",
       "      <td>NaN</td>\n",
       "      <td>NaN</td>\n",
       "      <td>NaN</td>\n",
       "      <td>NaN</td>\n",
       "      <td>NaN</td>\n",
       "      <td>NaN</td>\n",
       "      <td>NaN</td>\n",
       "      <td>1.0</td>\n",
       "      <td>NaN</td>\n",
       "    </tr>\n",
       "    <tr>\n",
       "      <th>y_buy</th>\n",
       "      <td>NaN</td>\n",
       "      <td>NaN</td>\n",
       "      <td>NaN</td>\n",
       "      <td>NaN</td>\n",
       "      <td>NaN</td>\n",
       "      <td>NaN</td>\n",
       "      <td>NaN</td>\n",
       "      <td>NaN</td>\n",
       "      <td>NaN</td>\n",
       "      <td>NaN</td>\n",
       "      <td>NaN</td>\n",
       "      <td>NaN</td>\n",
       "      <td>1.0</td>\n",
       "    </tr>\n",
       "  </tbody>\n",
       "</table>\n",
       "</div>"
      ],
      "text/plain": [
       "                     isbuyer  visit_freq  buy_interval  sv_interval  \\\n",
       "isbuyer                  1.0         NaN           NaN          NaN   \n",
       "visit_freq               NaN         1.0           NaN          NaN   \n",
       "buy_interval             NaN         NaN           1.0          NaN   \n",
       "sv_interval              NaN         NaN           NaN          1.0   \n",
       "expected_time_buy        NaN         NaN           NaN          NaN   \n",
       "expected_time_visit      NaN         NaN           NaN          NaN   \n",
       "last_buy                 NaN         NaN           NaN          NaN   \n",
       "last_visit               NaN         NaN           NaN          NaN   \n",
       "multiple_buy             NaN         NaN           NaN          NaN   \n",
       "multiple_visit           NaN         NaN           NaN          NaN   \n",
       "uniq_urls                NaN         NaN           NaN          NaN   \n",
       "num_checkins             NaN         NaN           NaN          NaN   \n",
       "y_buy                    NaN         NaN           NaN          NaN   \n",
       "\n",
       "                     expected_time_buy  expected_time_visit  last_buy  \\\n",
       "isbuyer                            NaN                  NaN       NaN   \n",
       "visit_freq                         NaN                  NaN       NaN   \n",
       "buy_interval                       NaN                  NaN       NaN   \n",
       "sv_interval                        NaN                  NaN       NaN   \n",
       "expected_time_buy                  1.0                  NaN       NaN   \n",
       "expected_time_visit                NaN                  1.0       NaN   \n",
       "last_buy                           NaN                  NaN       1.0   \n",
       "last_visit                         NaN                  NaN       1.0   \n",
       "multiple_buy                       NaN                  NaN       NaN   \n",
       "multiple_visit                     NaN                  NaN       NaN   \n",
       "uniq_urls                          NaN                  NaN       NaN   \n",
       "num_checkins                       NaN                  NaN       NaN   \n",
       "y_buy                              NaN                  NaN       NaN   \n",
       "\n",
       "                     last_visit  multiple_buy  multiple_visit  uniq_urls  \\\n",
       "isbuyer                     NaN           NaN             NaN        NaN   \n",
       "visit_freq                  NaN           NaN             NaN        NaN   \n",
       "buy_interval                NaN           NaN             NaN        NaN   \n",
       "sv_interval                 NaN           NaN             NaN        NaN   \n",
       "expected_time_buy           NaN           NaN             NaN        NaN   \n",
       "expected_time_visit         NaN           NaN             NaN        NaN   \n",
       "last_buy                    1.0           NaN             NaN        NaN   \n",
       "last_visit                  1.0           NaN             NaN        NaN   \n",
       "multiple_buy                NaN           1.0             NaN        NaN   \n",
       "multiple_visit              NaN           NaN             1.0        NaN   \n",
       "uniq_urls                   NaN           NaN             NaN        1.0   \n",
       "num_checkins                NaN           NaN             NaN        NaN   \n",
       "y_buy                       NaN           NaN             NaN        NaN   \n",
       "\n",
       "                     num_checkins  y_buy  \n",
       "isbuyer                       NaN    NaN  \n",
       "visit_freq                    NaN    NaN  \n",
       "buy_interval                  NaN    NaN  \n",
       "sv_interval                   NaN    NaN  \n",
       "expected_time_buy             NaN    NaN  \n",
       "expected_time_visit           NaN    NaN  \n",
       "last_buy                      NaN    NaN  \n",
       "last_visit                    NaN    NaN  \n",
       "multiple_buy                  NaN    NaN  \n",
       "multiple_visit                NaN    NaN  \n",
       "uniq_urls                     NaN    NaN  \n",
       "num_checkins                  1.0    NaN  \n",
       "y_buy                         NaN    1.0  "
      ]
     },
     "execution_count": 13,
     "metadata": {},
     "output_type": "execute_result"
    }
   ],
   "source": [
    "df.corr()[abs(df.corr()>.85)]\n"
   ]
  },
  {
   "cell_type": "code",
   "execution_count": 14,
   "metadata": {},
   "outputs": [
    {
     "data": {
      "image/png": "[encoded data removed]",
      "text/plain": [
       "<Figure size 432x288 with 2 Axes>"
      ]
     },
     "metadata": {
      "needs_background": "light"
     },
     "output_type": "display_data"
    }
   ],
   "source": [
    "corr_matrix=df.corr()\n",
    "ax = sns.heatmap(corr_matrix)"
   ]
  },
  {
   "cell_type": "markdown",
   "metadata": {},
   "source": [
    "- Higher correleted featrures are last_buy and last_visit, the need to be remove from the df becuase both features contain the same information.\n"
   ]
  },
  {
   "cell_type": "code",
   "execution_count": 15,
   "metadata": {},
   "outputs": [],
   "source": [
    "df.drop(['last_buy','last_visit'], axis=1, inplace = True)\n"
   ]
  },
  {
   "cell_type": "code",
   "execution_count": 11,
   "metadata": {},
   "outputs": [
    {
     "data": {
      "text/html": [
       "<div>\n",
       "<style scoped>\n",
       "    .dataframe tbody tr th:only-of-type {\n",
       "        vertical-align: middle;\n",
       "    }\n",
       "\n",
       "    .dataframe tbody tr th {\n",
       "        vertical-align: top;\n",
       "    }\n",
       "\n",
       "    .dataframe thead th {\n",
       "        text-align: right;\n",
       "    }\n",
       "</style>\n",
       "<table border=\"1\" class=\"dataframe\">\n",
       "  <thead>\n",
       "    <tr style=\"text-align: right;\">\n",
       "      <th></th>\n",
       "      <th>isbuyer</th>\n",
       "      <th>visit_freq</th>\n",
       "      <th>buy_interval</th>\n",
       "      <th>sv_interval</th>\n",
       "      <th>expected_time_buy</th>\n",
       "      <th>expected_time_visit</th>\n",
       "      <th>multiple_buy</th>\n",
       "      <th>multiple_visit</th>\n",
       "      <th>uniq_urls</th>\n",
       "      <th>num_checkins</th>\n",
       "      <th>y_buy</th>\n",
       "    </tr>\n",
       "  </thead>\n",
       "  <tbody>\n",
       "    <tr>\n",
       "      <th>0</th>\n",
       "      <td>0</td>\n",
       "      <td>1</td>\n",
       "      <td>0.0</td>\n",
       "      <td>0.0</td>\n",
       "      <td>0.0</td>\n",
       "      <td>0.0000</td>\n",
       "      <td>0</td>\n",
       "      <td>0</td>\n",
       "      <td>169</td>\n",
       "      <td>2130</td>\n",
       "      <td>0</td>\n",
       "    </tr>\n",
       "    <tr>\n",
       "      <th>1</th>\n",
       "      <td>0</td>\n",
       "      <td>1</td>\n",
       "      <td>0.0</td>\n",
       "      <td>0.0</td>\n",
       "      <td>0.0</td>\n",
       "      <td>0.0000</td>\n",
       "      <td>0</td>\n",
       "      <td>0</td>\n",
       "      <td>154</td>\n",
       "      <td>1100</td>\n",
       "      <td>0</td>\n",
       "    </tr>\n",
       "    <tr>\n",
       "      <th>3</th>\n",
       "      <td>0</td>\n",
       "      <td>1</td>\n",
       "      <td>0.0</td>\n",
       "      <td>0.0</td>\n",
       "      <td>0.0</td>\n",
       "      <td>0.0000</td>\n",
       "      <td>0</td>\n",
       "      <td>0</td>\n",
       "      <td>150</td>\n",
       "      <td>539</td>\n",
       "      <td>0</td>\n",
       "    </tr>\n",
       "    <tr>\n",
       "      <th>4</th>\n",
       "      <td>0</td>\n",
       "      <td>2</td>\n",
       "      <td>0.0</td>\n",
       "      <td>0.5</td>\n",
       "      <td>0.0</td>\n",
       "      <td>-101.1493</td>\n",
       "      <td>0</td>\n",
       "      <td>1</td>\n",
       "      <td>103</td>\n",
       "      <td>362</td>\n",
       "      <td>0</td>\n",
       "    </tr>\n",
       "    <tr>\n",
       "      <th>5</th>\n",
       "      <td>0</td>\n",
       "      <td>1</td>\n",
       "      <td>0.0</td>\n",
       "      <td>0.0</td>\n",
       "      <td>0.0</td>\n",
       "      <td>0.0000</td>\n",
       "      <td>0</td>\n",
       "      <td>0</td>\n",
       "      <td>17</td>\n",
       "      <td>35</td>\n",
       "      <td>0</td>\n",
       "    </tr>\n",
       "  </tbody>\n",
       "</table>\n",
       "</div>"
      ],
      "text/plain": [
       "   isbuyer  visit_freq  buy_interval  sv_interval  expected_time_buy  \\\n",
       "0        0           1           0.0          0.0                0.0   \n",
       "1        0           1           0.0          0.0                0.0   \n",
       "3        0           1           0.0          0.0                0.0   \n",
       "4        0           2           0.0          0.5                0.0   \n",
       "5        0           1           0.0          0.0                0.0   \n",
       "\n",
       "   expected_time_visit  multiple_buy  multiple_visit  uniq_urls  num_checkins  \\\n",
       "0               0.0000             0               0        169          2130   \n",
       "1               0.0000             0               0        154          1100   \n",
       "3               0.0000             0               0        150           539   \n",
       "4            -101.1493             0               1        103           362   \n",
       "5               0.0000             0               0         17            35   \n",
       "\n",
       "   y_buy  \n",
       "0      0  \n",
       "1      0  \n",
       "3      0  \n",
       "4      0  \n",
       "5      0  "
      ]
     },
     "execution_count": 11,
     "metadata": {},
     "output_type": "execute_result"
    }
   ],
   "source": [
    "df.head()"
   ]
  },
  {
   "cell_type": "markdown",
   "metadata": {},
   "source": [
    "## Replace negative values in uniq_urls feature with the median"
   ]
  },
  {
   "cell_type": "code",
   "execution_count": 16,
   "metadata": {},
   "outputs": [
    {
     "data": {
      "text/html": [
       "<div>\n",
       "<style scoped>\n",
       "    .dataframe tbody tr th:only-of-type {\n",
       "        vertical-align: middle;\n",
       "    }\n",
       "\n",
       "    .dataframe tbody tr th {\n",
       "        vertical-align: top;\n",
       "    }\n",
       "\n",
       "    .dataframe thead th {\n",
       "        text-align: right;\n",
       "    }\n",
       "</style>\n",
       "<table border=\"1\" class=\"dataframe\">\n",
       "  <thead>\n",
       "    <tr style=\"text-align: right;\">\n",
       "      <th></th>\n",
       "      <th>isbuyer</th>\n",
       "      <th>visit_freq</th>\n",
       "      <th>buy_interval</th>\n",
       "      <th>sv_interval</th>\n",
       "      <th>expected_time_buy</th>\n",
       "      <th>expected_time_visit</th>\n",
       "      <th>multiple_buy</th>\n",
       "      <th>multiple_visit</th>\n",
       "      <th>uniq_urls</th>\n",
       "      <th>num_checkins</th>\n",
       "      <th>y_buy</th>\n",
       "    </tr>\n",
       "  </thead>\n",
       "  <tbody>\n",
       "    <tr>\n",
       "      <th>23</th>\n",
       "      <td>0</td>\n",
       "      <td>1</td>\n",
       "      <td>0.0</td>\n",
       "      <td>0.000000</td>\n",
       "      <td>0.0</td>\n",
       "      <td>0.000000</td>\n",
       "      <td>0</td>\n",
       "      <td>0</td>\n",
       "      <td>-1</td>\n",
       "      <td>26</td>\n",
       "      <td>0</td>\n",
       "    </tr>\n",
       "    <tr>\n",
       "      <th>50</th>\n",
       "      <td>0</td>\n",
       "      <td>2</td>\n",
       "      <td>0.0</td>\n",
       "      <td>0.375000</td>\n",
       "      <td>0.0</td>\n",
       "      <td>-1.345821</td>\n",
       "      <td>0</td>\n",
       "      <td>1</td>\n",
       "      <td>-1</td>\n",
       "      <td>359</td>\n",
       "      <td>0</td>\n",
       "    </tr>\n",
       "    <tr>\n",
       "      <th>72</th>\n",
       "      <td>0</td>\n",
       "      <td>1</td>\n",
       "      <td>0.0</td>\n",
       "      <td>0.000000</td>\n",
       "      <td>0.0</td>\n",
       "      <td>0.000000</td>\n",
       "      <td>0</td>\n",
       "      <td>0</td>\n",
       "      <td>-1</td>\n",
       "      <td>99</td>\n",
       "      <td>0</td>\n",
       "    </tr>\n",
       "    <tr>\n",
       "      <th>118</th>\n",
       "      <td>0</td>\n",
       "      <td>1</td>\n",
       "      <td>0.0</td>\n",
       "      <td>0.000000</td>\n",
       "      <td>0.0</td>\n",
       "      <td>0.000000</td>\n",
       "      <td>0</td>\n",
       "      <td>0</td>\n",
       "      <td>-1</td>\n",
       "      <td>364</td>\n",
       "      <td>0</td>\n",
       "    </tr>\n",
       "    <tr>\n",
       "      <th>158</th>\n",
       "      <td>0</td>\n",
       "      <td>1</td>\n",
       "      <td>0.0</td>\n",
       "      <td>0.000000</td>\n",
       "      <td>0.0</td>\n",
       "      <td>0.000000</td>\n",
       "      <td>0</td>\n",
       "      <td>0</td>\n",
       "      <td>-1</td>\n",
       "      <td>414</td>\n",
       "      <td>0</td>\n",
       "    </tr>\n",
       "    <tr>\n",
       "      <th>...</th>\n",
       "      <td>...</td>\n",
       "      <td>...</td>\n",
       "      <td>...</td>\n",
       "      <td>...</td>\n",
       "      <td>...</td>\n",
       "      <td>...</td>\n",
       "      <td>...</td>\n",
       "      <td>...</td>\n",
       "      <td>...</td>\n",
       "      <td>...</td>\n",
       "      <td>...</td>\n",
       "    </tr>\n",
       "    <tr>\n",
       "      <th>54327</th>\n",
       "      <td>0</td>\n",
       "      <td>1</td>\n",
       "      <td>0.0</td>\n",
       "      <td>0.000000</td>\n",
       "      <td>0.0</td>\n",
       "      <td>0.000000</td>\n",
       "      <td>0</td>\n",
       "      <td>0</td>\n",
       "      <td>-1</td>\n",
       "      <td>343</td>\n",
       "      <td>0</td>\n",
       "    </tr>\n",
       "    <tr>\n",
       "      <th>54409</th>\n",
       "      <td>0</td>\n",
       "      <td>2</td>\n",
       "      <td>0.0</td>\n",
       "      <td>0.041667</td>\n",
       "      <td>0.0</td>\n",
       "      <td>-73.160350</td>\n",
       "      <td>0</td>\n",
       "      <td>1</td>\n",
       "      <td>-1</td>\n",
       "      <td>20</td>\n",
       "      <td>0</td>\n",
       "    </tr>\n",
       "    <tr>\n",
       "      <th>54437</th>\n",
       "      <td>0</td>\n",
       "      <td>1</td>\n",
       "      <td>0.0</td>\n",
       "      <td>0.000000</td>\n",
       "      <td>0.0</td>\n",
       "      <td>0.000000</td>\n",
       "      <td>0</td>\n",
       "      <td>0</td>\n",
       "      <td>-1</td>\n",
       "      <td>391</td>\n",
       "      <td>0</td>\n",
       "    </tr>\n",
       "    <tr>\n",
       "      <th>54497</th>\n",
       "      <td>0</td>\n",
       "      <td>1</td>\n",
       "      <td>0.0</td>\n",
       "      <td>0.000000</td>\n",
       "      <td>0.0</td>\n",
       "      <td>0.000000</td>\n",
       "      <td>0</td>\n",
       "      <td>0</td>\n",
       "      <td>-1</td>\n",
       "      <td>1297</td>\n",
       "      <td>0</td>\n",
       "    </tr>\n",
       "    <tr>\n",
       "      <th>54566</th>\n",
       "      <td>0</td>\n",
       "      <td>2</td>\n",
       "      <td>0.0</td>\n",
       "      <td>8.541667</td>\n",
       "      <td>0.0</td>\n",
       "      <td>-14.237070</td>\n",
       "      <td>0</td>\n",
       "      <td>1</td>\n",
       "      <td>-1</td>\n",
       "      <td>3</td>\n",
       "      <td>0</td>\n",
       "    </tr>\n",
       "  </tbody>\n",
       "</table>\n",
       "<p>747 rows × 11 columns</p>\n",
       "</div>"
      ],
      "text/plain": [
       "       isbuyer  visit_freq  buy_interval  sv_interval  expected_time_buy  \\\n",
       "23           0           1           0.0     0.000000                0.0   \n",
       "50           0           2           0.0     0.375000                0.0   \n",
       "72           0           1           0.0     0.000000                0.0   \n",
       "118          0           1           0.0     0.000000                0.0   \n",
       "158          0           1           0.0     0.000000                0.0   \n",
       "...        ...         ...           ...          ...                ...   \n",
       "54327        0           1           0.0     0.000000                0.0   \n",
       "54409        0           2           0.0     0.041667                0.0   \n",
       "54437        0           1           0.0     0.000000                0.0   \n",
       "54497        0           1           0.0     0.000000                0.0   \n",
       "54566        0           2           0.0     8.541667                0.0   \n",
       "\n",
       "       expected_time_visit  multiple_buy  multiple_visit  uniq_urls  \\\n",
       "23                0.000000             0               0         -1   \n",
       "50               -1.345821             0               1         -1   \n",
       "72                0.000000             0               0         -1   \n",
       "118               0.000000             0               0         -1   \n",
       "158               0.000000             0               0         -1   \n",
       "...                    ...           ...             ...        ...   \n",
       "54327             0.000000             0               0         -1   \n",
       "54409           -73.160350             0               1         -1   \n",
       "54437             0.000000             0               0         -1   \n",
       "54497             0.000000             0               0         -1   \n",
       "54566           -14.237070             0               1         -1   \n",
       "\n",
       "       num_checkins  y_buy  \n",
       "23               26      0  \n",
       "50              359      0  \n",
       "72               99      0  \n",
       "118             364      0  \n",
       "158             414      0  \n",
       "...             ...    ...  \n",
       "54327           343      0  \n",
       "54409            20      0  \n",
       "54437           391      0  \n",
       "54497          1297      0  \n",
       "54566             3      0  \n",
       "\n",
       "[747 rows x 11 columns]"
      ]
     },
     "execution_count": 16,
     "metadata": {},
     "output_type": "execute_result"
    }
   ],
   "source": [
    "df[df['uniq_urls']== -1] # checking for -1 values"
   ]
  },
  {
   "cell_type": "code",
   "execution_count": 17,
   "metadata": {},
   "outputs": [
    {
     "data": {
      "application/javascript": [
       "\n",
       "        if (window._pyforest_update_imports_cell) { window._pyforest_update_imports_cell('import numpy as np'); }\n",
       "    "
      ],
      "text/plain": [
       "<IPython.core.display.Javascript object>"
      ]
     },
     "metadata": {},
     "output_type": "display_data"
    }
   ],
   "source": [
    "df['uniq_urls'] = df['uniq_urls'].replace(-1, np.nan) # replace\n",
    "df['uniq_urls'] = df['uniq_urls'].fillna(df['uniq_urls'].median())"
   ]
  },
  {
   "cell_type": "code",
   "execution_count": 14,
   "metadata": {},
   "outputs": [
    {
     "data": {
      "text/html": [
       "<div>\n",
       "<style scoped>\n",
       "    .dataframe tbody tr th:only-of-type {\n",
       "        vertical-align: middle;\n",
       "    }\n",
       "\n",
       "    .dataframe tbody tr th {\n",
       "        vertical-align: top;\n",
       "    }\n",
       "\n",
       "    .dataframe thead th {\n",
       "        text-align: right;\n",
       "    }\n",
       "</style>\n",
       "<table border=\"1\" class=\"dataframe\">\n",
       "  <thead>\n",
       "    <tr style=\"text-align: right;\">\n",
       "      <th></th>\n",
       "      <th>isbuyer</th>\n",
       "      <th>visit_freq</th>\n",
       "      <th>buy_interval</th>\n",
       "      <th>sv_interval</th>\n",
       "      <th>expected_time_buy</th>\n",
       "      <th>expected_time_visit</th>\n",
       "      <th>multiple_buy</th>\n",
       "      <th>multiple_visit</th>\n",
       "      <th>uniq_urls</th>\n",
       "      <th>num_checkins</th>\n",
       "      <th>y_buy</th>\n",
       "    </tr>\n",
       "  </thead>\n",
       "  <tbody>\n",
       "    <tr>\n",
       "      <th>count</th>\n",
       "      <td>54068.000000</td>\n",
       "      <td>54068.000000</td>\n",
       "      <td>54068.000000</td>\n",
       "      <td>54068.000000</td>\n",
       "      <td>54068.000000</td>\n",
       "      <td>54068.000000</td>\n",
       "      <td>54068.000000</td>\n",
       "      <td>54068.000000</td>\n",
       "      <td>54068.000000</td>\n",
       "      <td>54068.000000</td>\n",
       "      <td>54068.000000</td>\n",
       "    </tr>\n",
       "    <tr>\n",
       "      <th>mean</th>\n",
       "      <td>0.043038</td>\n",
       "      <td>1.860916</td>\n",
       "      <td>0.212012</td>\n",
       "      <td>5.881207</td>\n",
       "      <td>-0.199930</td>\n",
       "      <td>-10.308233</td>\n",
       "      <td>0.006418</td>\n",
       "      <td>0.280092</td>\n",
       "      <td>88.340349</td>\n",
       "      <td>726.785455</td>\n",
       "      <td>0.004679</td>\n",
       "    </tr>\n",
       "    <tr>\n",
       "      <th>std</th>\n",
       "      <td>0.202945</td>\n",
       "      <td>2.934536</td>\n",
       "      <td>3.940633</td>\n",
       "      <td>17.669956</td>\n",
       "      <td>5.021547</td>\n",
       "      <td>32.015802</td>\n",
       "      <td>0.079855</td>\n",
       "      <td>0.449048</td>\n",
       "      <td>60.947754</td>\n",
       "      <td>1279.911461</td>\n",
       "      <td>0.068246</td>\n",
       "    </tr>\n",
       "    <tr>\n",
       "      <th>min</th>\n",
       "      <td>0.000000</td>\n",
       "      <td>0.000000</td>\n",
       "      <td>0.000000</td>\n",
       "      <td>0.000000</td>\n",
       "      <td>-181.923800</td>\n",
       "      <td>-187.615600</td>\n",
       "      <td>0.000000</td>\n",
       "      <td>0.000000</td>\n",
       "      <td>0.000000</td>\n",
       "      <td>1.000000</td>\n",
       "      <td>0.000000</td>\n",
       "    </tr>\n",
       "    <tr>\n",
       "      <th>25%</th>\n",
       "      <td>0.000000</td>\n",
       "      <td>1.000000</td>\n",
       "      <td>0.000000</td>\n",
       "      <td>0.000000</td>\n",
       "      <td>0.000000</td>\n",
       "      <td>0.000000</td>\n",
       "      <td>0.000000</td>\n",
       "      <td>0.000000</td>\n",
       "      <td>32.000000</td>\n",
       "      <td>130.000000</td>\n",
       "      <td>0.000000</td>\n",
       "    </tr>\n",
       "    <tr>\n",
       "      <th>50%</th>\n",
       "      <td>0.000000</td>\n",
       "      <td>1.000000</td>\n",
       "      <td>0.000000</td>\n",
       "      <td>0.000000</td>\n",
       "      <td>0.000000</td>\n",
       "      <td>0.000000</td>\n",
       "      <td>0.000000</td>\n",
       "      <td>0.000000</td>\n",
       "      <td>78.000000</td>\n",
       "      <td>324.000000</td>\n",
       "      <td>0.000000</td>\n",
       "    </tr>\n",
       "    <tr>\n",
       "      <th>75%</th>\n",
       "      <td>0.000000</td>\n",
       "      <td>2.000000</td>\n",
       "      <td>0.000000</td>\n",
       "      <td>0.166667</td>\n",
       "      <td>0.000000</td>\n",
       "      <td>0.000000</td>\n",
       "      <td>0.000000</td>\n",
       "      <td>1.000000</td>\n",
       "      <td>155.000000</td>\n",
       "      <td>809.000000</td>\n",
       "      <td>0.000000</td>\n",
       "    </tr>\n",
       "    <tr>\n",
       "      <th>max</th>\n",
       "      <td>1.000000</td>\n",
       "      <td>84.000000</td>\n",
       "      <td>174.625000</td>\n",
       "      <td>184.916700</td>\n",
       "      <td>84.285710</td>\n",
       "      <td>91.401920</td>\n",
       "      <td>1.000000</td>\n",
       "      <td>1.000000</td>\n",
       "      <td>206.000000</td>\n",
       "      <td>37091.000000</td>\n",
       "      <td>1.000000</td>\n",
       "    </tr>\n",
       "  </tbody>\n",
       "</table>\n",
       "</div>"
      ],
      "text/plain": [
       "            isbuyer    visit_freq  buy_interval   sv_interval  \\\n",
       "count  54068.000000  54068.000000  54068.000000  54068.000000   \n",
       "mean       0.043038      1.860916      0.212012      5.881207   \n",
       "std        0.202945      2.934536      3.940633     17.669956   \n",
       "min        0.000000      0.000000      0.000000      0.000000   \n",
       "25%        0.000000      1.000000      0.000000      0.000000   \n",
       "50%        0.000000      1.000000      0.000000      0.000000   \n",
       "75%        0.000000      2.000000      0.000000      0.166667   \n",
       "max        1.000000     84.000000    174.625000    184.916700   \n",
       "\n",
       "       expected_time_buy  expected_time_visit  multiple_buy  multiple_visit  \\\n",
       "count       54068.000000         54068.000000  54068.000000    54068.000000   \n",
       "mean           -0.199930           -10.308233      0.006418        0.280092   \n",
       "std             5.021547            32.015802      0.079855        0.449048   \n",
       "min          -181.923800          -187.615600      0.000000        0.000000   \n",
       "25%             0.000000             0.000000      0.000000        0.000000   \n",
       "50%             0.000000             0.000000      0.000000        0.000000   \n",
       "75%             0.000000             0.000000      0.000000        1.000000   \n",
       "max            84.285710            91.401920      1.000000        1.000000   \n",
       "\n",
       "          uniq_urls  num_checkins         y_buy  \n",
       "count  54068.000000  54068.000000  54068.000000  \n",
       "mean      88.340349    726.785455      0.004679  \n",
       "std       60.947754   1279.911461      0.068246  \n",
       "min        0.000000      1.000000      0.000000  \n",
       "25%       32.000000    130.000000      0.000000  \n",
       "50%       78.000000    324.000000      0.000000  \n",
       "75%      155.000000    809.000000      0.000000  \n",
       "max      206.000000  37091.000000      1.000000  "
      ]
     },
     "execution_count": 14,
     "metadata": {},
     "output_type": "execute_result"
    }
   ],
   "source": [
    "df.describe()"
   ]
  },
  {
   "cell_type": "markdown",
   "metadata": {},
   "source": [
    "## Exploratory Data Analysis"
   ]
  },
  {
   "cell_type": "code",
   "execution_count": 18,
   "metadata": {},
   "outputs": [
    {
     "data": {
      "image/png": "[encoded data removed]",
      "text/plain": [
       "<Figure size 576x432 with 1 Axes>"
      ]
     },
     "metadata": {},
     "output_type": "display_data"
    }
   ],
   "source": [
    "count_freq_plot(df,\"isbuyer\", \"buyer\", True)"
   ]
  },
  {
   "cell_type": "markdown",
   "metadata": {},
   "source": [
    "- The mayority of the users didnt buy the product in the past. They are new buyers."
   ]
  },
  {
   "cell_type": "code",
   "execution_count": 19,
   "metadata": {},
   "outputs": [
    {
     "data": {
      "text/plain": [
       "Text(0.5, 0, 'Avg of visit_freq')"
      ]
     },
     "execution_count": 19,
     "metadata": {},
     "output_type": "execute_result"
    },
    {
     "data": {
      "image/png": "[encoded data removed]",
      "text/plain": [
       "<Figure size 1080x576 with 1 Axes>"
      ]
     },
     "metadata": {},
     "output_type": "display_data"
    }
   ],
   "source": [
    "df.groupby(['isbuyer'])['visit_freq'].mean().sort_values().plot(kind='barh', figsize=(15,8))\n",
    "plt.title('Average of visited the website by Users')\n",
    "plt.xlabel(\"Avg of visit_freq\")\n",
    "\n",
    "# the mean num_checkins by isbuyer\n",
    "\n",
    "# New Buyers havent visit the website in the past.\n",
    "# buyers that purchaser the product in the past visit the website more often"
   ]
  },
  {
   "cell_type": "markdown",
   "metadata": {},
   "source": [
    "- Buyers that purchaser the product in the past visit the website more often"
   ]
  },
  {
   "cell_type": "code",
   "execution_count": 14,
   "metadata": {},
   "outputs": [
    {
     "data": {
      "application/javascript": [
       "\n",
       "        if (window._pyforest_update_imports_cell) { window._pyforest_update_imports_cell('import matplotlib.pyplot as plt\\nimport pandas as pd\\nimport seaborn as sns'); }\n",
       "    "
      ],
      "text/plain": [
       "<IPython.core.display.Javascript object>"
      ]
     },
     "metadata": {},
     "output_type": "display_data"
    },
    {
     "data": {
      "application/javascript": [
       "\n",
       "        if (window._pyforest_update_imports_cell) { window._pyforest_update_imports_cell('import matplotlib.pyplot as plt\\nimport pandas as pd\\nimport seaborn as sns'); }\n",
       "    "
      ],
      "text/plain": [
       "<IPython.core.display.Javascript object>"
      ]
     },
     "metadata": {},
     "output_type": "display_data"
    },
    {
     "data": {
      "text/plain": [
       "Text(0.5, 0, '# of visit_freq')"
      ]
     },
     "execution_count": 14,
     "metadata": {},
     "output_type": "execute_result"
    },
    {
     "data": {
      "image/png": "[encoded data removed]",
      "text/plain": [
       "<Figure size 1080x576 with 1 Axes>"
      ]
     },
     "metadata": {
      "needs_background": "light"
     },
     "output_type": "display_data"
    }
   ],
   "source": [
    "df.groupby(['isbuyer'])['sv_interval'].mean().sort_values().plot(kind='barh', figsize=(15,8))\n",
    "plt.title('Average of visits by Users that Past purchaser of product')\n",
    "plt.xlabel(\"# of visit_freq\")"
   ]
  },
  {
   "cell_type": "code",
   "execution_count": 17,
   "metadata": {},
   "outputs": [
    {
     "data": {
      "application/javascript": [
       "\n",
       "        if (window._pyforest_update_imports_cell) { window._pyforest_update_imports_cell('import matplotlib.pyplot as plt\\nimport pandas as pd\\nimport seaborn as sns'); }\n",
       "    "
      ],
      "text/plain": [
       "<IPython.core.display.Javascript object>"
      ]
     },
     "metadata": {},
     "output_type": "display_data"
    },
    {
     "data": {
      "application/javascript": [
       "\n",
       "        if (window._pyforest_update_imports_cell) { window._pyforest_update_imports_cell('import matplotlib.pyplot as plt\\nimport pandas as pd\\nimport seaborn as sns'); }\n",
       "    "
      ],
      "text/plain": [
       "<IPython.core.display.Javascript object>"
      ]
     },
     "metadata": {},
     "output_type": "display_data"
    },
    {
     "data": {
      "text/plain": [
       "Text(0.5, 0, '# of visit_freq')"
      ]
     },
     "execution_count": 17,
     "metadata": {},
     "output_type": "execute_result"
    },
    {
     "data": {
      "image/png": "[encoded data removed]",
      "text/plain": [
       "<Figure size 1080x576 with 1 Axes>"
      ]
     },
     "metadata": {
      "needs_background": "light"
     },
     "output_type": "display_data"
    }
   ],
   "source": [
    "df.groupby(['isbuyer'])['last_buy'].mean().sort_values().plot(kind='barh', figsize=(15,8))\n",
    "plt.title('Average of visits by Users that Past purchaser of product')\n",
    "plt.xlabel(\"# of visit_freq\")"
   ]
  },
  {
   "cell_type": "code",
   "execution_count": 18,
   "metadata": {},
   "outputs": [
    {
     "data": {
      "text/plain": [
       "<matplotlib.axes._subplots.AxesSubplot at 0x1a2ce27ed0>"
      ]
     },
     "execution_count": 18,
     "metadata": {},
     "output_type": "execute_result"
    },
    {
     "data": {
      "image/png": "[encoded data removed]",
      "text/plain": [
       "<Figure size 432x288 with 1 Axes>"
      ]
     },
     "metadata": {},
     "output_type": "display_data"
    }
   ],
   "source": [
    "sns.countplot(x = 'isbuyer', hue = 'y_buy', data = df)"
   ]
  },
  {
   "cell_type": "code",
   "execution_count": 18,
   "metadata": {},
   "outputs": [
    {
     "data": {
      "text/plain": [
       "isbuyer\n",
       "0    65.741317\n",
       "1    42.003438\n",
       "Name: last_buy, dtype: float64"
      ]
     },
     "execution_count": 18,
     "metadata": {},
     "output_type": "execute_result"
    }
   ],
   "source": [
    "df.groupby(['isbuyer'])['last_buy'].mean()"
   ]
  },
  {
   "cell_type": "markdown",
   "metadata": {},
   "source": [
    "## Normalized df"
   ]
  },
  {
   "cell_type": "code",
   "execution_count": 19,
   "metadata": {},
   "outputs": [
    {
     "data": {
      "text/html": [
       "<div>\n",
       "<style scoped>\n",
       "    .dataframe tbody tr th:only-of-type {\n",
       "        vertical-align: middle;\n",
       "    }\n",
       "\n",
       "    .dataframe tbody tr th {\n",
       "        vertical-align: top;\n",
       "    }\n",
       "\n",
       "    .dataframe thead th {\n",
       "        text-align: right;\n",
       "    }\n",
       "</style>\n",
       "<table border=\"1\" class=\"dataframe\">\n",
       "  <thead>\n",
       "    <tr style=\"text-align: right;\">\n",
       "      <th></th>\n",
       "      <th>isbuyer</th>\n",
       "      <th>visit_freq</th>\n",
       "      <th>buy_interval</th>\n",
       "      <th>sv_interval</th>\n",
       "      <th>expected_time_buy</th>\n",
       "      <th>expected_time_visit</th>\n",
       "      <th>multiple_buy</th>\n",
       "      <th>multiple_visit</th>\n",
       "      <th>uniq_urls</th>\n",
       "      <th>num_checkins</th>\n",
       "      <th>y_buy</th>\n",
       "    </tr>\n",
       "  </thead>\n",
       "  <tbody>\n",
       "    <tr>\n",
       "      <th>0</th>\n",
       "      <td>0.0</td>\n",
       "      <td>0.011905</td>\n",
       "      <td>0.0</td>\n",
       "      <td>0.000000</td>\n",
       "      <td>0.683386</td>\n",
       "      <td>0.672415</td>\n",
       "      <td>0.0</td>\n",
       "      <td>0.0</td>\n",
       "      <td>0.820388</td>\n",
       "      <td>0.057401</td>\n",
       "      <td>0.0</td>\n",
       "    </tr>\n",
       "    <tr>\n",
       "      <th>1</th>\n",
       "      <td>0.0</td>\n",
       "      <td>0.011905</td>\n",
       "      <td>0.0</td>\n",
       "      <td>0.000000</td>\n",
       "      <td>0.683386</td>\n",
       "      <td>0.672415</td>\n",
       "      <td>0.0</td>\n",
       "      <td>0.0</td>\n",
       "      <td>0.747573</td>\n",
       "      <td>0.029631</td>\n",
       "      <td>0.0</td>\n",
       "    </tr>\n",
       "    <tr>\n",
       "      <th>3</th>\n",
       "      <td>0.0</td>\n",
       "      <td>0.011905</td>\n",
       "      <td>0.0</td>\n",
       "      <td>0.000000</td>\n",
       "      <td>0.683386</td>\n",
       "      <td>0.672415</td>\n",
       "      <td>0.0</td>\n",
       "      <td>0.0</td>\n",
       "      <td>0.728155</td>\n",
       "      <td>0.014505</td>\n",
       "      <td>0.0</td>\n",
       "    </tr>\n",
       "    <tr>\n",
       "      <th>4</th>\n",
       "      <td>0.0</td>\n",
       "      <td>0.023810</td>\n",
       "      <td>0.0</td>\n",
       "      <td>0.002704</td>\n",
       "      <td>0.683386</td>\n",
       "      <td>0.309896</td>\n",
       "      <td>0.0</td>\n",
       "      <td>1.0</td>\n",
       "      <td>0.500000</td>\n",
       "      <td>0.009733</td>\n",
       "      <td>0.0</td>\n",
       "    </tr>\n",
       "    <tr>\n",
       "      <th>5</th>\n",
       "      <td>0.0</td>\n",
       "      <td>0.011905</td>\n",
       "      <td>0.0</td>\n",
       "      <td>0.000000</td>\n",
       "      <td>0.683386</td>\n",
       "      <td>0.672415</td>\n",
       "      <td>0.0</td>\n",
       "      <td>0.0</td>\n",
       "      <td>0.082524</td>\n",
       "      <td>0.000917</td>\n",
       "      <td>0.0</td>\n",
       "    </tr>\n",
       "  </tbody>\n",
       "</table>\n",
       "</div>"
      ],
      "text/plain": [
       "   isbuyer  visit_freq  buy_interval  sv_interval  expected_time_buy  \\\n",
       "0      0.0    0.011905           0.0     0.000000           0.683386   \n",
       "1      0.0    0.011905           0.0     0.000000           0.683386   \n",
       "3      0.0    0.011905           0.0     0.000000           0.683386   \n",
       "4      0.0    0.023810           0.0     0.002704           0.683386   \n",
       "5      0.0    0.011905           0.0     0.000000           0.683386   \n",
       "\n",
       "   expected_time_visit  multiple_buy  multiple_visit  uniq_urls  num_checkins  \\\n",
       "0             0.672415           0.0             0.0   0.820388      0.057401   \n",
       "1             0.672415           0.0             0.0   0.747573      0.029631   \n",
       "3             0.672415           0.0             0.0   0.728155      0.014505   \n",
       "4             0.309896           0.0             1.0   0.500000      0.009733   \n",
       "5             0.672415           0.0             0.0   0.082524      0.000917   \n",
       "\n",
       "   y_buy  \n",
       "0    0.0  \n",
       "1    0.0  \n",
       "3    0.0  \n",
       "4    0.0  \n",
       "5    0.0  "
      ]
     },
     "execution_count": 19,
     "metadata": {},
     "output_type": "execute_result"
    }
   ],
   "source": [
    "normalizad_features(df)"
   ]
  },
  {
   "cell_type": "markdown",
   "metadata": {},
   "source": [
    "## Target Feature"
   ]
  },
  {
   "cell_type": "markdown",
   "metadata": {},
   "source": [
    "- Binary feature: buy the product and not buy the product\n"
   ]
  },
  {
   "cell_type": "code",
   "execution_count": 21,
   "metadata": {},
   "outputs": [
    {
     "data": {
      "image/png": "[encoded data removed]",
      "text/plain": [
       "<Figure size 576x432 with 1 Axes>"
      ]
     },
     "metadata": {},
     "output_type": "display_data"
    }
   ],
   "source": [
    "count_freq_plot(df,\"y_buy\", 'Pursaches', True)"
   ]
  },
  {
   "cell_type": "markdown",
   "metadata": {},
   "source": [
    "- 99,53% of users didnt buy the product, only 0.47% of users buy the product. The target value is imbalance, it has \n",
    "higert % of user that didnt buy the products. "
   ]
  },
  {
   "cell_type": "markdown",
   "metadata": {},
   "source": [
    "## Defining x and y\n"
   ]
  },
  {
   "cell_type": "code",
   "execution_count": 20,
   "metadata": {},
   "outputs": [],
   "source": [
    "x = df.loc[:,['isbuyer', 'visit_freq', 'buy_interval', 'sv_interval',\n",
    "       'expected_time_buy', 'expected_time_visit', 'multiple_buy',\n",
    "       'multiple_visit', 'uniq_urls', 'num_checkins']]\n",
    "           \n",
    "           \n",
    "y = df.loc[:,'y_buy'] # target value"
   ]
  },
  {
   "cell_type": "markdown",
   "metadata": {},
   "source": [
    "- train, val, test set will be 60%, 20%, 20% of the dataset respectively."
   ]
  },
  {
   "cell_type": "markdown",
   "metadata": {},
   "source": [
    "## Oversampling the minority of the classes"
   ]
  },
  {
   "cell_type": "code",
   "execution_count": 21,
   "metadata": {},
   "outputs": [
    {
     "data": {
      "text/plain": [
       "107630"
      ]
     },
     "execution_count": 21,
     "metadata": {},
     "output_type": "execute_result"
    }
   ],
   "source": [
    "oversample = RandomOverSampler(sampling_strategy='minority')\n",
    "# fit and apply the transform\n",
    "X_over, y_over = oversample.fit_resample(x, y)\n",
    "len(X_over)"
   ]
  },
  {
   "cell_type": "code",
   "execution_count": 22,
   "metadata": {},
   "outputs": [],
   "source": [
    "X_train, X_test, y_train, y_test = train_test_split( X_over , y_over, test_size=0.2, random_state=1)\n",
    "# X_train, X_val, y_train, y_val = train_test_split(X_train, y_train, test_size=0.25, random_state=1)"
   ]
  },
  {
   "cell_type": "markdown",
   "metadata": {},
   "source": [
    "## Smote Algorithm to balance the df"
   ]
  },
  {
   "cell_type": "markdown",
   "metadata": {},
   "source": [
    "- Solving class imbalace problem (the algorithm generates new sample data by creating 'synthetic' examples that are combinations of the closest minority class cases.)"
   ]
  },
  {
   "cell_type": "code",
   "execution_count": 25,
   "metadata": {},
   "outputs": [],
   "source": [
    "logreg1 = LogisticRegression()\n",
    "model_log = logreg1.fit(X_train, y_train)\n",
    "y_pred_c1 = logreg1.predict(X_test)\n"
   ]
  },
  {
   "cell_type": "code",
   "execution_count": 26,
   "metadata": {},
   "outputs": [],
   "source": [
    "def metrix_classifier(x , y):\n",
    "    \"\"\" calculated the accuracy and print out accuracy and classification report\"\"\"\n",
    "    accuracy = round(metrics.accuracy_score(x, y) * 100 ,2)\n",
    "    print(f\"Accuracy: {accuracy} %\")\n",
    "#     f1_score = round(metrics.f1_score(x , y) * 100 , 2)\n",
    "    print(\"F1 Score: {}\".format(f1_score(x, y)))\n",
    "    print(classification_report(x,  y)) # maybe remove this"
   ]
  },
  {
   "cell_type": "code",
   "execution_count": 27,
   "metadata": {},
   "outputs": [],
   "source": [
    "\n",
    "def confusion_m(x,y,classifier):\n",
    "    \"\"\" it plots a confusion matrix \"\"\"\n",
    "    cm = confusion_matrix(x, y)\n",
    "    ax= plt.subplot()\n",
    "    sns.heatmap(cm, annot=True, ax = ax)\n",
    "    ax.set_xlabel('Predicted labels');ax.set_ylabel('True labels') \n",
    "    ax.set_title('Confusion Matrix ' + classifier)\n",
    "    ax.xaxis.set_ticklabels(['Fail', 'Pass']); ax.yaxis.set_ticklabels(['Fail', 'Pass'])\n",
    "    "
   ]
  },
  {
   "cell_type": "code",
   "execution_count": 28,
   "metadata": {},
   "outputs": [
    {
     "name": "stdout",
     "output_type": "stream",
     "text": [
      "Accuracy: 78.25 %\n",
      "F1 Score: 0.7694656488549618\n",
      "              precision    recall  f1-score   support\n",
      "\n",
      "         0.0       0.75      0.84      0.79     10778\n",
      "         1.0       0.82      0.73      0.77     10748\n",
      "\n",
      "    accuracy                           0.78     21526\n",
      "   macro avg       0.79      0.78      0.78     21526\n",
      "weighted avg       0.79      0.78      0.78     21526\n",
      "\n"
     ]
    },
    {
     "data": {
      "image/png": "[encoded data removed]",
      "text/plain": [
       "<Figure size 432x288 with 2 Axes>"
      ]
     },
     "metadata": {},
     "output_type": "display_data"
    }
   ],
   "source": [
    "\n",
    "metrix_classifier(y_test, y_pred_c1)\n",
    "confusion_m(y_test,y_pred_c1, 'Logistic Regresion')"
   ]
  },
  {
   "cell_type": "code",
   "execution_count": 26,
   "metadata": {},
   "outputs": [
    {
     "name": "stdout",
     "output_type": "stream",
     "text": [
      "Training Accuracy: 84.76%\n",
      "Validation accuracy: 84.91%\n"
     ]
    }
   ],
   "source": [
    "clf = xgb.XGBClassifier(booster= gblinear)\n",
    "clf.fit(X_train, y_train)\n",
    "training_preds = clf.predict(X_train)\n",
    "val_preds = clf.predict(X_test)\n",
    "training_accuracy = accuracy_score(y_train, training_preds)\n",
    "val_accuracy = accuracy_score(y_test, val_preds)\n",
    "\n",
    "print(\"Training Accuracy: {:.4}%\".format(training_accuracy * 100))\n",
    "print(\"Validation accuracy: {:.4}%\".format(val_accuracy * 100))"
   ]
  },
  {
   "cell_type": "code",
   "execution_count": null,
   "metadata": {},
   "outputs": [],
   "source": [
    "\n",
    "param_grid = {\n",
    "    \"learning_rate\": [0.1, .5, .75],\n",
    "    'max_depth': [6, 10, 12],\n",
    "    'min_child_weight': [5, 7, 9],\n",
    "    'subsample': [.3, .9],\n",
    "    'n_estimators': [5, 100],\n",
    "}\n",
    "\n",
    "\n",
    "grid_clf = GridSearchCV(clf, param_grid, scoring='accuracy', cv=None, n_jobs=1)\n",
    "grid_clf.fit(X_train, y_train)\n",
    "\n",
    "best_parameters = grid_clf.best_params_\n",
    "\n",
    "print(\"Grid Search found the following optimal parameters: \")\n",
    "for param_name in sorted(best_parameters.keys()):\n",
    "    print(\"%s: %r\" % (param_name, best_parameters[param_name]))\n",
    "\n"
   ]
  },
  {
   "cell_type": "code",
   "execution_count": null,
   "metadata": {},
   "outputs": [],
   "source": [
    "training_preds = grid_clf.predict(X_train)\n",
    "val_preds = grid_clf.predict(X_test)\n",
    "training_accuracy = accuracy_score(y_train, training_preds)\n",
    "val_accuracy = accuracy_score(y_test, val_preds)\n",
    "\n",
    "print(\"\")\n",
    "print(\"Training Accuracy: {:.4}%\".format(training_accuracy * 100))\n",
    "print(\"Validation accuracy: {:.4}%\".format(val_accuracy * 100))"
   ]
  },
  {
   "cell_type": "code",
   "execution_count": null,
   "metadata": {},
   "outputs": [],
   "source": []
  },
  {
   "cell_type": "code",
   "execution_count": null,
   "metadata": {},
   "outputs": [],
   "source": []
  },
  {
   "cell_type": "code",
   "execution_count": null,
   "metadata": {},
   "outputs": [],
   "source": []
  },
  {
   "cell_type": "code",
   "execution_count": null,
   "metadata": {},
   "outputs": [],
   "source": []
  },
  {
   "cell_type": "code",
   "execution_count": null,
   "metadata": {},
   "outputs": [],
   "source": []
  },
  {
   "cell_type": "code",
   "execution_count": null,
   "metadata": {},
   "outputs": [],
   "source": []
  },
  {
   "cell_type": "code",
   "execution_count": null,
   "metadata": {},
   "outputs": [],
   "source": []
  },
  {
   "cell_type": "code",
   "execution_count": null,
   "metadata": {},
   "outputs": [],
   "source": []
  },
  {
   "cell_type": "code",
   "execution_count": null,
   "metadata": {},
   "outputs": [],
   "source": []
  },
  {
   "cell_type": "code",
   "execution_count": null,
   "metadata": {},
   "outputs": [],
   "source": []
  },
  {
   "cell_type": "code",
   "execution_count": null,
   "metadata": {},
   "outputs": [],
   "source": []
  },
  {
   "cell_type": "code",
   "execution_count": null,
   "metadata": {},
   "outputs": [],
   "source": []
  },
  {
   "cell_type": "code",
   "execution_count": null,
   "metadata": {},
   "outputs": [],
   "source": []
  },
  {
   "cell_type": "code",
   "execution_count": null,
   "metadata": {},
   "outputs": [],
   "source": []
  },
  {
   "cell_type": "code",
   "execution_count": null,
   "metadata": {},
   "outputs": [],
   "source": []
  },
  {
   "cell_type": "code",
   "execution_count": null,
   "metadata": {},
   "outputs": [],
   "source": []
  },
  {
   "cell_type": "code",
   "execution_count": 15,
   "metadata": {},
   "outputs": [
    {
     "data": {
      "application/javascript": [
       "\n",
       "        if (window._pyforest_update_imports_cell) { window._pyforest_update_imports_cell('import sklearn\\nimport numpy as np'); }\n",
       "    "
      ],
      "text/plain": [
       "<IPython.core.display.Javascript object>"
      ]
     },
     "metadata": {},
     "output_type": "display_data"
    },
    {
     "data": {
      "text/plain": [
       "'0.22.1'"
      ]
     },
     "execution_count": 15,
     "metadata": {},
     "output_type": "execute_result"
    }
   ],
   "source": [
    "from sklearn.pipeline import Pipeline\n",
    "from sklearn.model_selection import GridSearchCV\n",
    "from sklearn.preprocessing import StandardScaler\n",
    "from xgboost import XGBClassifier\n",
    "from imblearn.pipeline import make_pipeline\n",
    "\n",
    "sklearn.__version__"
   ]
  },
  {
   "cell_type": "code",
   "execution_count": 16,
   "metadata": {},
   "outputs": [],
   "source": [
    "X_train, X_test, y_train, y_test = train_test_split( x , y, test_size=0.2, random_state=1)\n"
   ]
  },
  {
   "cell_type": "code",
   "execution_count": 17,
   "metadata": {},
   "outputs": [],
   "source": [
    " # Creating an scaler object\n",
    "std_slc = StandardScaler()\n",
    "# sm = SMOTE()\n",
    "    # Creating a pca object\n",
    "oversample =  RandomOverSampler()\n",
    "    # Creating a logistic regression object\n",
    "logistic_Reg = LogisticRegression()\n",
    "xgclassi = XGBClassifier()"
   ]
  },
  {
   "cell_type": "code",
   "execution_count": 22,
   "metadata": {},
   "outputs": [],
   "source": [
    "from imblearn.pipeline import Pipeline\n",
    "model = Pipeline([('std_slc', std_slc),\n",
    "        ('sampling', oversample),\n",
    "        ('clf', xgclass )])\n",
    "\n",
    "# pipe1=make_pipeline(std_slc, oversample,c)\n",
    "\n"
   ]
  },
  {
   "cell_type": "code",
   "execution_count": 23,
   "metadata": {},
   "outputs": [
    {
     "name": "stdout",
     "output_type": "stream",
     "text": [
      "Grid Search found the following optimal parameters: \n",
      "clf__learning_rate: 0.2\n",
      "clf__max_depth: 6\n",
      "clf__min_child_weight: 1\n",
      "clf__subsample: 0.7\n"
     ]
    }
   ],
   "source": [
    "param_grid_1 = {'clf__penalty': ['l1', 'l2'],'clf__C':[0.001,.009,0.01,.09,1,5,10,25]}\n",
    "\n",
    "param_grid = {\n",
    "    'clf__learning_rate': [0.1, 0.2],\n",
    "    'clf__max_depth': [6],\n",
    "    'clf__min_child_weight': [1, 2],\n",
    "    'clf__subsample': [0.5, 0.7]\n",
    "}\n",
    "grid_clf = GridSearchCV(model, param_grid, scoring='accuracy', cv=3, n_jobs=1)\n",
    "grid_clf.fit(X_train, y_train)\n",
    "\n",
    "best_parameters = grid_clf.best_params_\n",
    "\n",
    "print(\"Grid Search found the following optimal parameters: \")\n",
    "for param_name in sorted(best_parameters.keys()):\n",
    "    print(\"%s: %r\" % (param_name, best_parameters[param_name]))\n",
    "\n"
   ]
  },
  {
   "cell_type": "code",
   "execution_count": 24,
   "metadata": {},
   "outputs": [
    {
     "name": "stdout",
     "output_type": "stream",
     "text": [
      "\n",
      "Training Accuracy: 98.09%\n",
      "Validation accuracy: 97.53%\n"
     ]
    }
   ],
   "source": [
    "training_preds = grid_clf.predict(X_train)\n",
    "val_preds = grid_clf.predict(X_test)\n",
    "training_accuracy = accuracy_score(y_train, training_preds)\n",
    "val_accuracy = accuracy_score(y_test, val_preds)\n",
    "\n",
    "print(\"\")\n",
    "print(\"Training Accuracy: {:.4}%\".format(training_accuracy * 100))\n",
    "print(\"Validation accuracy: {:.4}%\".format(val_accuracy * 100))"
   ]
  },
  {
   "cell_type": "code",
   "execution_count": 25,
   "metadata": {},
   "outputs": [
    {
     "name": "stdout",
     "output_type": "stream",
     "text": [
      "              precision    recall  f1-score   support\n",
      "\n",
      "           0       1.00      0.98      0.99     10766\n",
      "           1       0.02      0.10      0.04        48\n",
      "\n",
      "    accuracy                           0.98     10814\n",
      "   macro avg       0.51      0.54      0.51     10814\n",
      "weighted avg       0.99      0.98      0.98     10814\n",
      "\n"
     ]
    }
   ],
   "source": [
    "xgb_classification_report = classification_report(y_test, val_preds)\n",
    "print(xgb_classification_report)"
   ]
  },
  {
   "cell_type": "code",
   "execution_count": 38,
   "metadata": {},
   "outputs": [
    {
     "name": "stdout",
     "output_type": "stream",
     "text": [
      "\n",
      "Training Accuracy: 85.71%\n",
      "Validation accuracy: 86.16%\n"
     ]
    }
   ],
   "source": [
    "training_preds = grid_clf.predict(X_train)\n",
    "val_preds = grid_clf.predict(X_test)\n",
    "training_accuracy = accuracy_score(y_train, training_preds)\n",
    "val_accuracy = accuracy_score(y_test, val_preds)\n",
    "\n",
    "print(\"\")\n",
    "print(\"Training Accuracy: {:.4}%\".format(training_accuracy * 100))\n",
    "print(\"Validation accuracy: {:.4}%\".format(val_accuracy * 100))"
   ]
  },
  {
   "cell_type": "code",
   "execution_count": 39,
   "metadata": {},
   "outputs": [
    {
     "name": "stdout",
     "output_type": "stream",
     "text": [
      "              precision    recall  f1-score   support\n",
      "\n",
      "           0       1.00      0.86      0.93     10766\n",
      "           1       0.02      0.69      0.04        48\n",
      "\n",
      "    accuracy                           0.86     10814\n",
      "   macro avg       0.51      0.77      0.48     10814\n",
      "weighted avg       0.99      0.86      0.92     10814\n",
      "\n"
     ]
    }
   ],
   "source": [
    "xgb_classification_report = classification_report(y_test, val_preds)\n",
    "print(xgb_classification_report)"
   ]
  },
  {
   "cell_type": "code",
   "execution_count": null,
   "metadata": {},
   "outputs": [],
   "source": [
    "X_train, X_test, y_train, y_test = train_test_split( X_over , y_over, test_size=0.2, random_state=1)\n"
   ]
  },
  {
   "cell_type": "code",
   "execution_count": 1,
   "metadata": {},
   "outputs": [
    {
     "ename": "NameError",
     "evalue": "name 'y_over' is not defined",
     "output_type": "error",
     "traceback": [
      "\u001b[0;31m---------------------------------------------------------------------------\u001b[0m",
      "\u001b[0;31mNameError\u001b[0m                                 Traceback (most recent call last)",
      "\u001b[0;32m<ipython-input-1-f05232ad08ca>\u001b[0m in \u001b[0;36m<module>\u001b[0;34m\u001b[0m\n\u001b[0;32m----> 1\u001b[0;31m \u001b[0mlen\u001b[0m\u001b[0;34m(\u001b[0m\u001b[0my_over\u001b[0m\u001b[0;34m)\u001b[0m\u001b[0;34m\u001b[0m\u001b[0;34m\u001b[0m\u001b[0m\n\u001b[0m",
      "\u001b[0;31mNameError\u001b[0m: name 'y_over' is not defined"
     ]
    }
   ],
   "source": [
    "len(y_over)"
   ]
  },
  {
   "cell_type": "code",
   "execution_count": null,
   "metadata": {},
   "outputs": [],
   "source": []
  },
  {
   "cell_type": "code",
   "execution_count": null,
   "metadata": {},
   "outputs": [],
   "source": []
  }
 ],
 "metadata": {
  "kernelspec": {
   "display_name": "Python 3",
   "language": "python",
   "name": "python3"
  },
  "language_info": {
   "codemirror_mode": {
    "name": "ipython",
    "version": 3
   },
   "file_extension": ".py",
   "mimetype": "text/x-python",
   "name": "python",
   "nbconvert_exporter": "python",
   "pygments_lexer": "ipython3",
   "version": "3.7.7"
  }
 },
 "nbformat": 4,
 "nbformat_minor": 4
}
